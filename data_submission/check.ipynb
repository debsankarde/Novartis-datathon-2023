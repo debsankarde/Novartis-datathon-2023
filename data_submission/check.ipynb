{
 "cells": [
  {
   "cell_type": "code",
   "execution_count": 1,
   "metadata": {},
   "outputs": [],
   "source": [
    "def post_process(predictions):\n",
    "    # Calculate the sum of the predictions\n",
    "    sum_predictions = sum(predictions)\n",
    "    \n",
    "    # If sum is zero (to avoid division by zero), return the original predictions\n",
    "    if sum_predictions == 0:\n",
    "        return predictions\n",
    "\n",
    "    # Calculate the scaling factor\n",
    "    scaling_factor = 1 / sum_predictions\n",
    "\n",
    "    # Adjust each prediction\n",
    "    predictions_adjusted = [pred * scaling_factor for pred in predictions]\n",
    "    return predictions_adjusted\n",
    "\n",
    "# Example usage\n",
    "predictions = [0.2, 0.3, 0.4]  # Example predictions\n",
    "predictions_adjusted = post_process(predictions)"
   ]
  },
  {
   "cell_type": "code",
   "execution_count": 2,
   "metadata": {},
   "outputs": [
    {
     "data": {
      "text/plain": [
       "[0.22222222222222224, 0.3333333333333333, 0.4444444444444445]"
      ]
     },
     "execution_count": 2,
     "metadata": {},
     "output_type": "execute_result"
    }
   ],
   "source": [
    "predictions_adjusted"
   ]
  },
  {
   "cell_type": "code",
   "execution_count": null,
   "metadata": {},
   "outputs": [],
   "source": []
  }
 ],
 "metadata": {
  "kernelspec": {
   "display_name": "Python 3",
   "language": "python",
   "name": "python3"
  },
  "language_info": {
   "codemirror_mode": {
    "name": "ipython",
    "version": 3
   },
   "file_extension": ".py",
   "mimetype": "text/x-python",
   "name": "python",
   "nbconvert_exporter": "python",
   "pygments_lexer": "ipython3",
   "version": "3.10.9"
  }
 },
 "nbformat": 4,
 "nbformat_minor": 2
}
